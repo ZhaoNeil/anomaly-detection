{
 "cells": [
  {
   "cell_type": "code",
   "execution_count": 1,
   "metadata": {},
   "outputs": [],
   "source": [
    "#Download from https://github.com/ZhaoNeil/anomaly-detection\n",
    "#Then pip install -r requirements.txt\n",
    "from breakout import detect_breakout\n",
    "import numpy as np"
   ]
  },
  {
   "cell_type": "code",
   "execution_count": 2,
   "metadata": {},
   "outputs": [
    {
     "name": "stdout",
     "output_type": "stream",
     "text": [
      "changepoint index: [6]\n",
      "Values before and after changepoint, mean\n",
      "[1, 1, 1, 2, 2, 2] 1.5\n",
      "[3, 3, 3, 4, 4, 4] 3.5\n",
      "Changepoint value 6\n",
      "percent_change 1.3333333333333333\n"
     ]
    }
   ],
   "source": [
    "vals=[1,1,1,2,2,2,3,3,3,4,4,4]\n",
    "changepoint = detect_breakout(vals, min_size=3, method='amoc', degree=1, beta=0.002)\n",
    "#'amoc' for at most one change point location will be returned\n",
    "#'multi' for multiple change points\n",
    "print('changepoint index:', changepoint[:])\n",
    "cp_index = [0]+changepoint+[len(vals)]\n",
    "mean_vals = []\n",
    "percent_change = []\n",
    "\n",
    "print(\"Values before and after changepoint, mean\")\n",
    "for i in range(len(cp_index)-1):\n",
    "    mean_vals.append(np.mean(vals[cp_index[i]:cp_index[i+1]]))\n",
    "    print(vals[cp_index[i]:cp_index[i+1]],mean_vals[i])\n",
    "\n",
    "for i in range(len(changepoint)):\n",
    "    percent_change.append((mean_vals[i+1]-mean_vals[i])/mean_vals[i])\n",
    "    print(\"Changepoint value\",changepoint[i])\n",
    "    print(\"percent_change\",percent_change[i])"
   ]
  },
  {
   "cell_type": "code",
   "execution_count": null,
   "metadata": {},
   "outputs": [],
   "source": []
  }
 ],
 "metadata": {
  "kernelspec": {
   "display_name": "Python 3",
   "language": "python",
   "name": "python3"
  },
  "language_info": {
   "codemirror_mode": {
    "name": "ipython",
    "version": 3
   },
   "file_extension": ".py",
   "mimetype": "text/x-python",
   "name": "python",
   "nbconvert_exporter": "python",
   "pygments_lexer": "ipython3",
   "version": "3.7.0"
  }
 },
 "nbformat": 4,
 "nbformat_minor": 2
}
